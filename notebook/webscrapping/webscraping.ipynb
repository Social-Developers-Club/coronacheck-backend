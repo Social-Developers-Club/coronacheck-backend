{
 "cells": [
  {
   "cell_type": "markdown",
   "metadata": {},
   "source": [
    "# Webscpraping"
   ]
  },
  {
   "cell_type": "code",
   "execution_count": 1,
   "metadata": {
    "ExecuteTime": {
     "end_time": "2020-03-21T17:39:01.923070Z",
     "start_time": "2020-03-21T17:39:00.537125Z"
    }
   },
   "outputs": [],
   "source": [
    "import requests\n",
    "import json\n",
    "from bs4 import BeautifulSoup\n",
    "import pandas as pd\n",
    "import numpy as np"
   ]
  },
  {
   "cell_type": "markdown",
   "metadata": {},
   "source": [
    "## CoronaTracker"
   ]
  },
  {
   "cell_type": "code",
   "execution_count": 2,
   "metadata": {
    "ExecuteTime": {
     "end_time": "2020-03-21T17:39:02.606684Z",
     "start_time": "2020-03-21T17:39:02.594058Z"
    }
   },
   "outputs": [],
   "source": [
    "LANGUAGE = 'de'\n",
    "LIMIT = '999'\n",
    "URL = 'https://api.coronatracker.com/news/trending?limit=' + \\\n",
    "    LIMIT+'&offset=0&countryCode=&country=&language='+LANGUAGE"
   ]
  },
  {
   "cell_type": "code",
   "execution_count": 3,
   "metadata": {
    "ExecuteTime": {
     "end_time": "2020-03-21T17:39:11.310792Z",
     "start_time": "2020-03-21T17:39:03.934656Z"
    }
   },
   "outputs": [],
   "source": [
    "# Make a GET request to the url\n",
    "request = requests.get(url=URL)\n",
    "\n",
    "# Response as json\n",
    "data = request.json()"
   ]
  },
  {
   "cell_type": "code",
   "execution_count": 7,
   "metadata": {
    "ExecuteTime": {
     "end_time": "2020-03-21T17:41:18.339571Z",
     "start_time": "2020-03-21T17:41:18.140013Z"
    }
   },
   "outputs": [],
   "source": [
    "for head in data:\n",
    "    if head == 'total':\n",
    "        head_t = head\n",
    "        value = data[head]\n",
    "    elif head == 'items':\n",
    "        content = pd.DataFrame(data['items'])\n",
    "\n",
    "        content[head_t] = value\n",
    "\n",
    "content.to_csv('/Users/andang/Documents/workspace/wirvsvirus/data/coronatracker.csv', sep = \"\\t\", encoding = 'utf8')"
   ]
  },
  {
   "cell_type": "markdown",
   "metadata": {},
   "source": [
    "## RKI"
   ]
  },
  {
   "cell_type": "code",
   "execution_count": 2,
   "metadata": {
    "ExecuteTime": {
     "end_time": "2020-03-21T14:48:24.715509Z",
     "start_time": "2020-03-21T14:48:24.710313Z"
    }
   },
   "outputs": [],
   "source": [
    "URL = 'https://www.rki.de/DE/Content/InfAZ/N/Neuartiges_Coronavirus/nCoV.html'"
   ]
  },
  {
   "cell_type": "code",
   "execution_count": 5,
   "metadata": {
    "ExecuteTime": {
     "end_time": "2020-03-21T14:48:44.929719Z",
     "start_time": "2020-03-21T14:48:44.916952Z"
    }
   },
   "outputs": [],
   "source": [
    "def get_content(URL):\n",
    "    # Make the GET request to a url\n",
    "    request = requests.get(URL)\n",
    "    # Extract the content\n",
    "    content = request.content\n",
    "    # Create a soup object\n",
    "    soup = BeautifulSoup(content)\n",
    "\n",
    "    return soup\n",
    "\n",
    "\n",
    "def get_linklist(soup):\n",
    "    link_list = []\n",
    "\n",
    "    class_text = soup.find('div', attrs={'id': 'main'})\n",
    "\n",
    "    for a in class_text.find_all('a', href=True):\n",
    "        link = a['href']\n",
    "        if link[:2] == 'DE':\n",
    "            link_list.append('https://www.rki.de/'+link)\n",
    "        elif link[:2] == '/D':\n",
    "            link_list.append('https://www.rki.de'+link)\n",
    "        elif link[:2] == 'Sh':\n",
    "            link_list.append('https://www.rki.de/'+link)\n",
    "        elif link[:2] == 'co':\n",
    "            link_list.append('https://www.rki.de/'+link)\n",
    "        else:\n",
    "            link_list.append('https://www.rki.de/'+link)\n",
    "    \n",
    "    return(link_list)"
   ]
  },
  {
   "cell_type": "raw",
   "metadata": {
    "ExecuteTime": {
     "end_time": "2020-03-21T14:53:53.759150Z",
     "start_time": "2020-03-21T14:53:51.350204Z"
    }
   },
   "source": [
    "# Could go through all the links and scraped all the content\n",
    "content = get_content(URL)\n",
    "\n",
    "link_list = get_linklist(content)\n",
    "\n",
    "for url in link_list:\n",
    "    soup = get_content(url)\n",
    "    text = soup.find('div', attrs={'id': 'main'})\n",
    "    print(text)\n",
    "    break\n",
    "    "
   ]
  },
  {
   "cell_type": "code",
   "execution_count": null,
   "metadata": {},
   "outputs": [],
   "source": []
  }
 ],
 "metadata": {
  "kernelspec": {
   "display_name": "Python 3",
   "language": "python",
   "name": "python3"
  },
  "language_info": {
   "codemirror_mode": {
    "name": "ipython",
    "version": 3
   },
   "file_extension": ".py",
   "mimetype": "text/x-python",
   "name": "python",
   "nbconvert_exporter": "python",
   "pygments_lexer": "ipython3",
   "version": "3.7.6"
  },
  "toc": {
   "base_numbering": 1,
   "nav_menu": {},
   "number_sections": true,
   "sideBar": true,
   "skip_h1_title": false,
   "title_cell": "Table of Contents",
   "title_sidebar": "Contents",
   "toc_cell": false,
   "toc_position": {},
   "toc_section_display": true,
   "toc_window_display": false
  }
 },
 "nbformat": 4,
 "nbformat_minor": 4
}
