{
 "cells": [
  {
   "cell_type": "markdown",
   "metadata": {},
   "source": [
    "# Webscpraping"
   ]
  },
  {
   "cell_type": "code",
   "execution_count": 1,
   "metadata": {
    "ExecuteTime": {
     "end_time": "2020-03-21T20:15:37.262730Z",
     "start_time": "2020-03-21T20:15:35.657254Z"
    }
   },
   "outputs": [],
   "source": [
    "import requests\n",
    "import json\n",
    "from bs4 import BeautifulSoup\n",
    "import pandas as pd\n",
    "import numpy as np"
   ]
  },
  {
   "cell_type": "markdown",
   "metadata": {},
   "source": [
    "## CoronaTracker"
   ]
  },
  {
   "cell_type": "code",
   "execution_count": 2,
   "metadata": {
    "ExecuteTime": {
     "end_time": "2020-03-21T20:15:37.339324Z",
     "start_time": "2020-03-21T20:15:37.267031Z"
    }
   },
   "outputs": [],
   "source": [
    "LANGUAGE = 'de'\n",
    "LIMIT = '999'\n",
    "URL = 'https://api.coronatracker.com/news/trending?limit=' + \\\n",
    "    LIMIT+'&offset=0&countryCode=&country=&language='+LANGUAGE"
   ]
  },
  {
   "cell_type": "code",
   "execution_count": 3,
   "metadata": {
    "ExecuteTime": {
     "end_time": "2020-03-21T20:15:55.736230Z",
     "start_time": "2020-03-21T20:15:37.364772Z"
    }
   },
   "outputs": [],
   "source": [
    "# Make a GET request to the url\n",
    "request = requests.get(url=URL)\n",
    "\n",
    "# Response as json\n",
    "data = request.json()"
   ]
  },
  {
   "cell_type": "code",
   "execution_count": 4,
   "metadata": {
    "ExecuteTime": {
     "end_time": "2020-03-21T20:15:56.221029Z",
     "start_time": "2020-03-21T20:15:55.912177Z"
    }
   },
   "outputs": [],
   "source": [
    "for head in data:\n",
    "    if head == 'total':\n",
    "        head_t = head\n",
    "        value = data[head]\n",
    "    elif head == 'items':\n",
    "        content = pd.DataFrame(data['items'])\n",
    "\n",
    "        content[head_t] = value\n",
    "\n",
    "content.to_csv('/Users/andang/Documents/workspace/wirvsvirus/data/coronatracker.csv', sep = \"\\t\", encoding = 'utf8')"
   ]
  },
  {
   "cell_type": "markdown",
   "metadata": {},
   "source": [
    "## RKI"
   ]
  },
  {
   "cell_type": "raw",
   "metadata": {
    "ExecuteTime": {
     "end_time": "2020-03-21T19:47:39.906410Z",
     "start_time": "2020-03-21T19:47:39.900279Z"
    }
   },
   "source": [
    "URL = 'https://www.rki.de/DE/Content/InfAZ/N/Neuartiges_Coronavirus/nCoV.html'"
   ]
  },
  {
   "cell_type": "code",
   "execution_count": 5,
   "metadata": {
    "ExecuteTime": {
     "end_time": "2020-03-21T20:15:56.353266Z",
     "start_time": "2020-03-21T20:15:56.237843Z"
    }
   },
   "outputs": [],
   "source": [
    "def get_content(URL):\n",
    "    # Make the GET request to a url\n",
    "    request = requests.get(URL)\n",
    "    # Extract the content\n",
    "    content = request.content\n",
    "    # Create a soup object\n",
    "    soup = BeautifulSoup(content)\n",
    "\n",
    "    return soup\n",
    "\n",
    "\n",
    "def get_linklist(soup):\n",
    "    link_list = []\n",
    "\n",
    "    class_text = soup.find('div', attrs={'id': 'main'})\n",
    "\n",
    "    for a in class_text.find_all('a', href=True):\n",
    "        link = a['href']\n",
    "        if link[:2] == 'DE':\n",
    "            link_list.append('https://www.rki.de/'+link)\n",
    "        elif link[:2] == '/D':\n",
    "            link_list.append('https://www.rki.de'+link)\n",
    "        elif link[:2] == 'Sh':\n",
    "            link_list.append('https://www.rki.de/'+link)\n",
    "        elif link[:2] == 'co':\n",
    "            link_list.append('https://www.rki.de/'+link)\n",
    "        else:\n",
    "            link_list.append('https://www.rki.de/'+link)\n",
    "    \n",
    "    return(link_list)"
   ]
  },
  {
   "cell_type": "raw",
   "metadata": {
    "ExecuteTime": {
     "end_time": "2020-03-21T14:53:53.759150Z",
     "start_time": "2020-03-21T14:53:51.350204Z"
    }
   },
   "source": [
    "# Could go through all the links and scraped all the content\n",
    "content = get_content(URL)\n",
    "\n",
    "link_list = get_linklist(content)\n",
    "\n",
    "for url in link_list:\n",
    "    soup = get_content(url)\n",
    "    text = soup.find('div', attrs={'id': 'main'})\n",
    "    print(text)\n",
    "    break\n",
    "    "
   ]
  },
  {
   "cell_type": "code",
   "execution_count": 6,
   "metadata": {
    "ExecuteTime": {
     "end_time": "2020-03-21T20:15:56.381344Z",
     "start_time": "2020-03-21T20:15:56.365277Z"
    }
   },
   "outputs": [],
   "source": [
    "URL = 'https://www.rki.de/SharedDocs/FAQ/NCOV2019/FAQ_Liste.html'"
   ]
  },
  {
   "cell_type": "code",
   "execution_count": 7,
   "metadata": {
    "ExecuteTime": {
     "end_time": "2020-03-21T20:15:56.852434Z",
     "start_time": "2020-03-21T20:15:56.418702Z"
    }
   },
   "outputs": [],
   "source": [
    "content = get_content(URL)\n",
    "class_text = content.find_all('div', attrs={'class': 'alt-accordion-box-box'})\n",
    "actuall_date = content.find_all('p', attrs={'class':'date'})"
   ]
  },
  {
   "cell_type": "raw",
   "metadata": {
    "ExecuteTime": {
     "end_time": "2020-03-21T20:13:31.425610Z",
     "start_time": "2020-03-21T20:13:31.419214Z"
    }
   },
   "source": [
    "question_list.clear()\n",
    "answer_list.clear()\n",
    "date_list.clear()"
   ]
  },
  {
   "cell_type": "code",
   "execution_count": 8,
   "metadata": {
    "ExecuteTime": {
     "end_time": "2020-03-21T20:15:56.868742Z",
     "start_time": "2020-03-21T20:15:56.858630Z"
    }
   },
   "outputs": [],
   "source": [
    "date_list = []\n",
    "question_list = []\n",
    "answer_list = []"
   ]
  },
  {
   "cell_type": "code",
   "execution_count": 9,
   "metadata": {
    "ExecuteTime": {
     "end_time": "2020-03-21T20:15:56.889365Z",
     "start_time": "2020-03-21T20:15:56.879935Z"
    }
   },
   "outputs": [],
   "source": [
    "for date in actuall_date:\n",
    "    date_dict = {}\n",
    "    date_dict['Stand'] = date.text[7:]\n",
    "    date_list.append(date_dict)"
   ]
  },
  {
   "cell_type": "code",
   "execution_count": 10,
   "metadata": {
    "ExecuteTime": {
     "end_time": "2020-03-21T20:15:56.911229Z",
     "start_time": "2020-03-21T20:15:56.895721Z"
    }
   },
   "outputs": [],
   "source": [
    "\n",
    "for question in class_text:\n",
    "    faq_dict = {}\n",
    "    q = question.find('h2').text\n",
    "    faq_dict['frage'] = q\n",
    "    question_list.append(faq_dict)\n",
    "    \n",
    "for faq_text in class_text:\n",
    "    faq_dict = {}\n",
    "    a = faq_text.find('p').text\n",
    "    faq_dict['antwort'] = a\n",
    "    answer_list.append(faq_dict)\n"
   ]
  },
  {
   "cell_type": "code",
   "execution_count": 11,
   "metadata": {
    "ExecuteTime": {
     "end_time": "2020-03-21T20:15:56.940520Z",
     "start_time": "2020-03-21T20:15:56.917512Z"
    }
   },
   "outputs": [],
   "source": [
    "df1 = pd.DataFrame(answer_list)\n",
    "df2 = pd.DataFrame(question_list)\n",
    "df3 = pd.DataFrame(date_list)\n",
    "\n",
    "pd.concat([df1,df2,df3], axis=1).to_csv('/Users/andang/Documents/workspace/wirvsvirus/data/rki_faq.csv', sep = \"\\t\", encoding = 'utf8')"
   ]
  },
  {
   "cell_type": "code",
   "execution_count": null,
   "metadata": {},
   "outputs": [],
   "source": []
  }
 ],
 "metadata": {
  "kernelspec": {
   "display_name": "Python 3",
   "language": "python",
   "name": "python3"
  },
  "language_info": {
   "codemirror_mode": {
    "name": "ipython",
    "version": 3
   },
   "file_extension": ".py",
   "mimetype": "text/x-python",
   "name": "python",
   "nbconvert_exporter": "python",
   "pygments_lexer": "ipython3",
   "version": "3.7.6"
  },
  "toc": {
   "base_numbering": 1,
   "nav_menu": {},
   "number_sections": true,
   "sideBar": true,
   "skip_h1_title": false,
   "title_cell": "Table of Contents",
   "title_sidebar": "Contents",
   "toc_cell": false,
   "toc_position": {},
   "toc_section_display": true,
   "toc_window_display": false
  }
 },
 "nbformat": 4,
 "nbformat_minor": 4
}
